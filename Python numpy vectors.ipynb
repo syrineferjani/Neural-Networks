{
 "cells": [
  {
   "cell_type": "code",
   "execution_count": 6,
   "id": "2b55a803",
   "metadata": {},
   "outputs": [
    {
     "name": "stdout",
     "output_type": "stream",
     "text": [
      "[-1.50818529 -1.8162612  -0.20290758 -0.08839819  0.36063181]\n"
     ]
    }
   ],
   "source": [
    "import numpy as np\n",
    "\n",
    "a = np.random.randn(5)\n",
    "print(a)"
   ]
  },
  {
   "cell_type": "code",
   "execution_count": 7,
   "id": "93b51c2a",
   "metadata": {},
   "outputs": [
    {
     "data": {
      "text/plain": [
       "(5,)"
      ]
     },
     "execution_count": 7,
     "metadata": {},
     "output_type": "execute_result"
    }
   ],
   "source": [
    "a.shape"
   ]
  },
  {
   "cell_type": "code",
   "execution_count": 8,
   "id": "5063b0ef",
   "metadata": {},
   "outputs": [
    {
     "name": "stdout",
     "output_type": "stream",
     "text": [
      "[-1.50818529 -1.8162612  -0.20290758 -0.08839819  0.36063181]\n"
     ]
    }
   ],
   "source": [
    "print(a.T)"
   ]
  },
  {
   "cell_type": "code",
   "execution_count": 9,
   "id": "8dccebda",
   "metadata": {},
   "outputs": [
    {
     "name": "stdout",
     "output_type": "stream",
     "text": [
      "5.752468666174391\n"
     ]
    }
   ],
   "source": [
    "print(np.dot(a,a.T))"
   ]
  },
  {
   "cell_type": "code",
   "execution_count": 10,
   "id": "7efa386b",
   "metadata": {},
   "outputs": [
    {
     "name": "stdout",
     "output_type": "stream",
     "text": [
      "[[ 0.35966889]\n",
      " [ 0.34010929]\n",
      " [-1.22142484]\n",
      " [-0.03253735]\n",
      " [-0.45869399]]\n"
     ]
    }
   ],
   "source": [
    "a = np.random.randn(5,1)\n",
    "print(a)"
   ]
  },
  {
   "cell_type": "code",
   "execution_count": 11,
   "id": "07ee1c67",
   "metadata": {},
   "outputs": [
    {
     "data": {
      "text/plain": [
       "(5, 1)"
      ]
     },
     "execution_count": 11,
     "metadata": {},
     "output_type": "execute_result"
    }
   ],
   "source": [
    "a.shape"
   ]
  },
  {
   "cell_type": "code",
   "execution_count": 12,
   "id": "74a6efd4",
   "metadata": {},
   "outputs": [
    {
     "name": "stdout",
     "output_type": "stream",
     "text": [
      "[[ 0.35966889  0.34010929 -1.22142484 -0.03253735 -0.45869399]]\n"
     ]
    }
   ],
   "source": [
    "print(a.T)"
   ]
  },
  {
   "cell_type": "code",
   "execution_count": 13,
   "id": "bcc421ce",
   "metadata": {},
   "outputs": [
    {
     "name": "stdout",
     "output_type": "stream",
     "text": [
      "[[ 1.29361712e-01  1.22326733e-01 -4.39308519e-01 -1.17026740e-02\n",
      "  -1.64977958e-01]\n",
      " [ 1.22326733e-01  1.15674332e-01 -4.15417941e-01 -1.10662565e-02\n",
      "  -1.56006089e-01]\n",
      " [-4.39308519e-01 -4.15417941e-01  1.49187865e+00  3.97419324e-02\n",
      "   5.60260233e-01]\n",
      " [-1.17026740e-02 -1.10662565e-02  3.97419324e-02  1.05867940e-03\n",
      "   1.49246887e-02]\n",
      " [-1.64977958e-01 -1.56006089e-01  5.60260233e-01  1.49246887e-02\n",
      "   2.10400175e-01]]\n"
     ]
    }
   ],
   "source": [
    "print(np.dot(a,a.T))"
   ]
  },
  {
   "cell_type": "code",
   "execution_count": 16,
   "id": "1e615581",
   "metadata": {},
   "outputs": [],
   "source": [
    "a = a.reshape((5,1))"
   ]
  },
  {
   "cell_type": "code",
   "execution_count": 17,
   "id": "39f4a4e8",
   "metadata": {},
   "outputs": [
    {
     "name": "stdout",
     "output_type": "stream",
     "text": [
      "[[ 0.35966889]\n",
      " [ 0.34010929]\n",
      " [-1.22142484]\n",
      " [-0.03253735]\n",
      " [-0.45869399]]\n"
     ]
    }
   ],
   "source": [
    "print(a)"
   ]
  },
  {
   "cell_type": "code",
   "execution_count": null,
   "id": "2a73ff82",
   "metadata": {},
   "outputs": [],
   "source": [
    " 0"
   ]
  }
 ],
 "metadata": {
  "kernelspec": {
   "display_name": "Python 3 (ipykernel)",
   "language": "python",
   "name": "python3"
  },
  "language_info": {
   "codemirror_mode": {
    "name": "ipython",
    "version": 3
   },
   "file_extension": ".py",
   "mimetype": "text/x-python",
   "name": "python",
   "nbconvert_exporter": "python",
   "pygments_lexer": "ipython3",
   "version": "3.9.12"
  }
 },
 "nbformat": 4,
 "nbformat_minor": 5
}
